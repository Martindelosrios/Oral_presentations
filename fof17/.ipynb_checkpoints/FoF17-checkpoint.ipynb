{
 "cells": [
  {
   "cell_type": "markdown",
   "metadata": {
    "slideshow": {
     "slide_type": "slide"
    }
   },
   "source": [
    "# Measuring the cosmological parameters spatial distribution.\n",
    "\n",
    "\n",
    "\n",
    "### Martín de los Rios, Mariano Dominguez"
   ]
  },
  {
   "cell_type": "code",
   "execution_count": 1,
   "metadata": {
    "collapsed": false,
    "slideshow": {
     "slide_type": "skip"
    }
   },
   "outputs": [
    {
     "name": "stderr",
     "output_type": "stream",
     "text": [
      "Loading required package: lattice\n",
      "Loading required package: ggplot2\n"
     ]
    }
   ],
   "source": [
    "#Funciones necesarias para correr todo\n",
    "#Feature selection por bineado\n",
    "#{{{\n",
    "feature.select<-function(x,y,n.feat,x.min,x.max){\n",
    "  #xbin=(max(x)-min(x))/(n.feat)\n",
    "  xbin=(x.max-x.min)/(n.feat)\n",
    "\n",
    "  y.feat<-1:n.feat\n",
    "  x.feat<-1:n.feat\n",
    "\n",
    "  dx=0.00001 #Es para evitar que el maximo se quede afuera por redondeo de la compu\n",
    "  for(i in 1:n.feat){\n",
    "    #x.feat[i]=min(x)+xbin*(2*(i-1)+1)/2\n",
    "    x.feat[i]=x.min+xbin*(2*(i-1)+1)/2\n",
    "    xmin=x.feat[i]-xbin/2\n",
    "    xmax=x.feat[i]+xbin/2\n",
    "    y.aux<-y[which(x>=(xmin-dx) & x<=(xmax+dx))]\n",
    "    if(length(y.aux) > 1){\n",
    "      y.feat[i]=mean(y.aux)\n",
    "    } else if (length(y.aux) == 1){\n",
    "      y.feat[i]= y.aux[1]\n",
    "    } else if (length(y.aux) == 0){\n",
    "      y.feat[i]= -9999\n",
    "    }\n",
    "  }\n",
    "\n",
    "  for(i in 1:n.feat){\n",
    "    if(y.feat[i] == -9999){\n",
    "      ysup=-9999\n",
    "      yinf=-9999\n",
    "      for(j in 1:(n.feat-1)){\n",
    "        if(ysup<0 & (i+j) <= n.feat){\n",
    "          if(y.feat[i+j] > 0){ysup=y.feat[i+j]}\n",
    "        }\n",
    "        if(yinf<0 & (i-j) > 0){\n",
    "          if(y.feat[i-j] > 0){yinf=y.feat[i-j]}\n",
    "        }\n",
    "      }\n",
    "      y.feat[i]=(ysup+yinf)/2\n",
    "    }\n",
    "  }\n",
    "\n",
    "  y.feat[which(y.feat < 0)]=0\n",
    "\n",
    "  mat<-data.frame(x.feat,y.feat)\n",
    "  return(mat)\n",
    "}\n",
    "#}}}\n",
    "#Feature selection por bineado (cmb)\n",
    "#{{{\n",
    "feature.select.cmb<-function(x,y,n.feat){\n",
    "  xbin=(max(x)-min(x))/(n.feat)\n",
    "\n",
    "  y.feat<-1:n.feat\n",
    "  x.feat<-1:n.feat\n",
    "\n",
    "  for(i in 1:n.feat){\n",
    "    x.feat[i]=min(x)+xbin*(2*(i-1)+1)/2\n",
    "    xmin=x.feat[i]-xbin/2\n",
    "    xmax=x.feat[i]+xbin/2\n",
    "    y.feat[i]=mean(y[which(x>=xmin & x<xmax)])\n",
    "  }\n",
    "\n",
    "  mat<-data.frame(x.feat,y.feat)\n",
    "}\n",
    "#}}}\n",
    "\n",
    "#PCA_mat\n",
    "#{{{\n",
    "PCA_mat<-function(dat){\n",
    "  mat_cov<-cov(dat)\n",
    "  eig<-eigen(mat_cov)\n",
    "  mat_cb<-solve(eig$vectors) \n",
    "\n",
    "  return(mat_cb)\n",
    "}\n",
    "#}}}\n",
    "\n",
    "#validacion\n",
    "#{{{\n",
    "validacion<-function(datos,datos_aux){\n",
    "\n",
    "  fl=0\n",
    "  datos_aux<-subset(datos_aux,datos_aux$y.feat > 0)\n",
    "  for(i in 1:length(datos_aux$y.feat)){\n",
    "    if((datos_aux$y.feat[i] < min(datos[,4+i]) | (datos_aux$y.feat[i] > max(datos[,4+i])))){fl=1}\n",
    "  }\n",
    "\n",
    "  return(fl)\n",
    "}\n",
    "#}}}\n",
    "#validacion1\n",
    "#{{{\n",
    "validacion1<-function(datos,datos_aux){\n",
    "\n",
    "  flags<-1:length(datos_aux$y.feat)\n",
    "  flags[]=0\n",
    "  for(i in 1:length(datos_aux$y.feat)){\n",
    "    if((datos_aux$y.feat[i] < min(datos[,4+i]) | (datos_aux$y.feat[i] > max(datos[,4+i])))){\n",
    "      flags[i]=1\n",
    "    }\n",
    "  }\n",
    "\n",
    "  return(flags)\n",
    "}\n",
    "#}}}\n",
    "#rename\n",
    "#{{{\n",
    "rename<-function(trainset){\n",
    "\n",
    "  name1<-colnames(trainset)[1]\n",
    "  trainset_aux<-trainset[,-1]\n",
    "\n",
    "  name<-1:(length(trainset)-1)\n",
    "  for(i in 1:length(name)){\n",
    "    name[i]<-paste('X',toString(i),sep='')\n",
    "  }\n",
    " \n",
    "  name<-c(name1,name)\n",
    "  colnames(trainset)<-name\n",
    "  return(trainset)\n",
    "}\n",
    "#}}}\n",
    "#rename1\n",
    "#{{{\n",
    "rename1<-function(trainset){\n",
    "\n",
    "  trainset_aux<-trainset\n",
    "\n",
    "  name<-1:length(trainset_aux)\n",
    "  for(i in 1:length(trainset_aux)){\n",
    "    name[i]<-paste('X',toString(i),sep='')\n",
    "  }\n",
    " \n",
    "  colnames(trainset)<-name\n",
    "  return(trainset)\n",
    "}\n",
    "#}}}\n",
    "library('latex2exp')\n",
    "library('caret')"
   ]
  },
  {
   "cell_type": "markdown",
   "metadata": {
    "slideshow": {
     "slide_type": "slide"
    }
   },
   "source": [
    "### Machine learning techniques in Astronomy."
   ]
  },
  {
   "cell_type": "markdown",
   "metadata": {
    "slideshow": {
     "slide_type": "skip"
    }
   },
   "source": [
    "<center>\n",
    "<img src='supervised_learning.png' width=900>"
   ]
  },
  {
   "cell_type": "code",
   "execution_count": 2,
   "metadata": {
    "collapsed": false,
    "slideshow": {
     "slide_type": "subslide"
    }
   },
   "outputs": [
    {
     "name": "stdout",
     "output_type": "stream",
     "text": [
      "'data.frame':\t6930 obs. of  5 variables:\n",
      " $ u_g  : num  0.834 1.359 1.659 2.169 2.208 ...\n",
      " $ g_r  : num  0.226 0.526 0.629 0.888 1.004 ...\n",
      " $ r_i  : num  0.0416 0.1647 0.2196 0.2986 0.3465 ...\n",
      " $ i_z  : num  0.1505 0.0692 0.121 0.1705 0.2208 ...\n",
      " $ class: Factor w/ 3 levels \"qso\",\"rrl\",\"star\": 3 3 3 3 3 3 3 3 3 3 ...\n"
     ]
    }
   ],
   "source": [
    "dat<-read.table('colors_training_set.csv',sep=',',header=T)\n",
    "vec<-c('u_g','g_r','r_i','i_z','class')\n",
    "colnames(dat)<-vec\n",
    "str(dat)"
   ]
  },
  {
   "cell_type": "code",
   "execution_count": 3,
   "metadata": {
    "collapsed": false,
    "scrolled": true,
    "slideshow": {
     "slide_type": "skip"
    }
   },
   "outputs": [
    {
     "name": "stdout",
     "output_type": "stream",
     "text": [
      "'data.frame':\t6930 obs. of  5 variables:\n",
      " $ u_g  : num  0.834 1.359 1.659 2.169 2.208 ...\n",
      " $ g_r  : num  0.226 0.526 0.629 0.888 1.004 ...\n",
      " $ r_i  : num  0.0416 0.1647 0.2196 0.2986 0.3465 ...\n",
      " $ i_z  : num  0.1505 0.0692 0.121 0.1705 0.2208 ...\n",
      " $ class: Factor w/ 3 levels \"qso\",\"rrl\",\"star\": 3 3 3 3 3 3 3 3 3 3 ...\n",
      "      u_g               g_r               r_i                i_z          \n",
      " Min.   :-0.9872   Min.   :-0.6748   Min.   :-0.87247   Min.   :-0.99843  \n",
      " 1st Qu.: 0.8595   1st Qu.: 0.1729   1st Qu.: 0.04671   1st Qu.:-0.01119  \n",
      " Median : 1.1537   Median : 0.3413   Median : 0.13591   Median : 0.06187  \n",
      " Mean   : 1.2865   Mean   : 0.4806   Mean   : 0.24800   Mean   : 0.11516  \n",
      " 3rd Qu.: 1.7090   3rd Qu.: 0.7965   3rd Qu.: 0.31760   3rd Qu.: 0.21869  \n",
      " Max.   : 4.4834   Max.   : 1.9708   Max.   : 2.78331   Max.   : 1.47968  \n",
      "  class     \n",
      " qso : 988  \n",
      " rrl : 998  \n",
      " star:4944  \n",
      "            \n",
      "            \n",
      "            \n"
     ]
    }
   ],
   "source": [
    "vec<-c('u_g','g_r','r_i','i_z','class')\n",
    "colnames(dat)<-vec\n",
    "str(dat)\n",
    "print(summary(dat))"
   ]
  },
  {
   "cell_type": "code",
   "execution_count": 4,
   "metadata": {
    "collapsed": false,
    "slideshow": {
     "slide_type": "subslide"
    }
   },
   "outputs": [
    {
     "name": "stderr",
     "output_type": "stream",
     "text": [
      "randomForest 4.6-12\n",
      "Type rfNews() to see new features/changes/bug fixes.\n",
      "\n",
      "Attaching package: ‘randomForest’\n",
      "\n",
      "The following object is masked from ‘package:ggplot2’:\n",
      "\n",
      "    margin\n",
      "\n"
     ]
    }
   ],
   "source": [
    "#Load the Random Forest package\n",
    "library('randomForest')\n",
    "\n",
    "#Split the data into test and train set\n",
    "ind<-sample(x=1:length(dat$u_g),replace=F,size = 6000)\n",
    "train_set<-dat[ind,]\n",
    "test_set<-dat[-ind,]\n",
    "\n",
    "#We train a Machine Learning model\n",
    "model<-randomForest(class~., data=train_set)\n",
    "\n",
    "#We predict the class for the data in the test set\n",
    "predicted_class<-predict(model,newdata = test_set)"
   ]
  },
  {
   "cell_type": "code",
   "execution_count": 5,
   "metadata": {
    "collapsed": false,
    "scrolled": false,
    "slideshow": {
     "slide_type": "subslide"
    }
   },
   "outputs": [
    {
     "data": {
      "text/plain": [
       "          Reference\n",
       "Prediction qso rrl star\n",
       "      qso  108   0   18\n",
       "      rrl    0 125    9\n",
       "      star  40  11  619"
      ]
     },
     "metadata": {},
     "output_type": "display_data"
    }
   ],
   "source": [
    "confusionMatrix(data = predicted_class,reference = test_set$class)$table"
   ]
  },
  {
   "cell_type": "code",
   "execution_count": 6,
   "metadata": {
    "collapsed": false,
    "slideshow": {
     "slide_type": "subslide"
    }
   },
   "outputs": [
    {
     "name": "stderr",
     "output_type": "stream",
     "text": [
      "\n",
      "Attaching package: ‘kernlab’\n",
      "\n",
      "The following object is masked from ‘package:ggplot2’:\n",
      "\n",
      "    alpha\n",
      "\n"
     ]
    }
   ],
   "source": [
    "#Load the packages that we will use\n",
    "library('CosmoPhotoz') #This package contain the data\n",
    "library('kernlab') #This package contain a Support Vector Machine implementation\n",
    "library('randomForest') #This package contain a Random Forest implementation\n",
    "\n",
    "#We load the train and test set\n",
    "data(PHAT0train)\n",
    "data(PHAT0test)"
   ]
  },
  {
   "cell_type": "code",
   "execution_count": 7,
   "metadata": {
    "collapsed": false,
    "slideshow": {
     "slide_type": "skip"
    }
   },
   "outputs": [
    {
     "data": {
      "text/plain": [
       "    redshift            up              gp              rp       \n",
       " Min.   :0.0200   Min.   :17.50   Min.   :15.89   Min.   :15.15  \n",
       " 1st Qu.:0.2400   1st Qu.:23.50   1st Qu.:23.01   1st Qu.:22.34  \n",
       " Median :0.4000   Median :24.17   Median :23.75   Median :23.15  \n",
       " Mean   :0.4239   Mean   :24.07   Mean   :23.49   Mean   :22.82  \n",
       " 3rd Qu.:0.5800   3rd Qu.:24.66   3rd Qu.:24.20   3rd Qu.:23.61  \n",
       " Max.   :2.1800   Max.   :28.69   Max.   :26.42   Max.   :24.08  \n",
       "       ip              zp              Y               J        \n",
       " Min.   :14.75   Min.   :14.49   Min.   :14.26   Min.   :14.11  \n",
       " 1st Qu.:21.93   1st Qu.:21.72   1st Qu.:21.52   1st Qu.:21.26  \n",
       " Median :22.72   Median :22.54   Median :22.40   Median :22.20  \n",
       " Mean   :22.46   Mean   :22.30   Mean   :22.15   Mean   :21.94  \n",
       " 3rd Qu.:23.27   3rd Qu.:23.13   3rd Qu.:23.03   3rd Qu.:22.85  \n",
       " Max.   :24.10   Max.   :23.88   Max.   :23.90   Max.   :23.68  \n",
       "       H               K             IRAC_1          IRAC_2     \n",
       " Min.   :13.88   Min.   :14.06   Min.   :14.86   Min.   :15.31  \n",
       " 1st Qu.:21.00   1st Qu.:20.88   1st Qu.:21.39   1st Qu.:21.78  \n",
       " Median :22.03   Median :21.96   Median :22.79   Median :23.28  \n",
       " Mean   :21.76   Mean   :21.70   Mean   :23.36   Mean   :23.70  \n",
       " 3rd Qu.:22.73   3rd Qu.:22.70   3rd Qu.:26.37   3rd Qu.:26.37  \n",
       " Max.   :23.70   Max.   :23.89   Max.   :26.37   Max.   :26.37  "
      ]
     },
     "metadata": {},
     "output_type": "display_data"
    }
   ],
   "source": [
    "summary(PHAT0train)"
   ]
  },
  {
   "cell_type": "code",
   "execution_count": 8,
   "metadata": {
    "collapsed": true,
    "slideshow": {
     "slide_type": "subslide"
    }
   },
   "outputs": [],
   "source": [
    "#We train a RF and SVM model\n",
    "rf<-randomForest(redshift~.,data=PHAT0train)\n",
    "svm<-ksvm(redshift~.,data=PHAT0train)\n",
    "\n",
    "#We make prediction for the data in the test set\n",
    "\n",
    "photoz_rf<-predict(rf,newdata = PHAT0test)\n",
    "photoz_svm<-predict(svm,newdata = PHAT0test)"
   ]
  },
  {
   "cell_type": "code",
   "execution_count": 9,
   "metadata": {
    "collapsed": false,
    "scrolled": false,
    "slideshow": {
     "slide_type": "subslide"
    }
   },
   "outputs": [
    {
     "data": {
      "image/png": "[encoded data removed]",
      "text/plain": [
       "plot without title"
      ]
     },
     "metadata": {},
     "output_type": "display_data"
    }
   ],
   "source": [
    "#Now we must compare the predictions of the two models\n",
    "\n",
    "options(repr.plot.width=6.3, repr.plot.height=4.2)\n",
    "plot(PHAT0test$redshift,photoz_rf, pch=20,cex=0.5,col='black',xlab='Spectroscopic Redshift',ylab='Photometric Redshift')\n",
    "points(PHAT0test$redshift,photoz_svm, pch=17,cex=0.5,col='red')\n",
    "abline(a=0,b=1)\n",
    "legend('topleft',c('Random Forest','Suppor Vector Machine'),pch=c(20,17),col=c('black','red'))"
   ]
  },
  {
   "cell_type": "markdown",
   "metadata": {
    "slideshow": {
     "slide_type": "skip"
    }
   },
   "source": [
    "Bogus-Real Clasiffication of transitors in optical images\n",
    "\n",
    "<center>\n",
    "<img src='bruno2.png' width='600'>"
   ]
  },
  {
   "cell_type": "markdown",
   "metadata": {
    "slideshow": {
     "slide_type": "skip"
    }
   },
   "source": [
    "<center>\n",
    "<img src='bruno1.png' width='900'>"
   ]
  },
  {
   "cell_type": "markdown",
   "metadata": {
    "slideshow": {
     "slide_type": "subslide"
    }
   },
   "source": [
    "Galaxy clusters dynamical status clasification using Random Forest (MeSsI).\n",
    "\n",
    "<center>\n",
    "<img src='resu.png' width='600'>"
   ]
  },
  {
   "cell_type": "markdown",
   "metadata": {
    "slideshow": {
     "slide_type": "slide"
    }
   },
   "source": [
    "### Basic concepts of Cosmology."
   ]
  },
  {
   "cell_type": "markdown",
   "metadata": {
    "slideshow": {
     "slide_type": "subslide"
    }
   },
   "source": [
    "Homogeneous and isotropic Universe -> FRW Metric\n",
    "\n",
    "$ds^{2}=dt^{2}-a^{2}(t)[\\frac{dr^{2}}{1-kr^{2}}+r^{2}(d \\theta^{2}+sin^{2} \\theta d \\phi^{2})] $\n",
    "\n",
    "$(\\frac{H}{H_{0}})^{2}=\\Omega_{rad}a^{-4}+\\Omega_{m}a^{-3}+\\Omega_{\\Lambda}-Kc^{2}a^{-2}$"
   ]
  },
  {
   "cell_type": "markdown",
   "metadata": {
    "slideshow": {
     "slide_type": "subslide"
    }
   },
   "source": [
    "|||\n",
    "|:------|------:|\n",
    "|<img style=\"float: left;\" src='supernovas.png' width=480>|<img style=\"float: right;\" src='planck.png' width=610>|\n",
    "|*Supernovas JLA (Carvalho & Marques 2015 (1512.07869))*|*Cosmic Microwave Background (Planck Collaboration 2015 (1502.01589))*|"
   ]
  },
  {
   "cell_type": "markdown",
   "metadata": {
    "slideshow": {
     "slide_type": "skip"
    }
   },
   "source": [
    "<center>\n",
    "<img align='center' src=bananas2.png width=700>\n",
    "*(Betoule et al. 2014 (1401.4064))*"
   ]
  },
  {
   "cell_type": "markdown",
   "metadata": {
    "slideshow": {
     "slide_type": "skip"
    }
   },
   "source": [
    "<tiny>\n",
    "Latest Planck Results (Planck Collaboration (1502.01589))\n",
    "\n",
    "$\\Omega_{m}h^{2} = 0.1197 \\pm 0.0022$  $\\Omega_{k} = -0.0052 \\pm 0.049$ $\\Omega_{b}h^{2} = 0.0226 \\pm 0.00023$ $H_{0} = 67.31 \\pm 0.96$\n",
    "\n",
    "</tiny>\n",
    "\n",
    "### problems\n",
    "\n",
    "* Riess et al. 2016 (1604.01424) find a local value of $H_{0}=73.24 \\pm 1.74$\n",
    "* Buchert et al. 2016 (1505.07800), Kolb et al. 2006 (0506534) find that the small scales inhomogeneities can backreactions effects that may reproduce the effect of a cosmological constant."
   ]
  },
  {
   "cell_type": "markdown",
   "metadata": {
    "slideshow": {
     "slide_type": "subslide"
    }
   },
   "source": [
    "<center>\n",
    "<img src='hubble.png' width=850>\n",
    "*Angular Distribution of the relative variance of the cosmological parameters measured with supernova data (Carvalho & Marques (1512.07869)).*"
   ]
  },
  {
   "cell_type": "markdown",
   "metadata": {
    "slideshow": {
     "slide_type": "skip"
    }
   },
   "source": [
    "#### Problems\n",
    "* Estimate the angular distribution using supernova data -> Lot of pixel with very few data points\n",
    "* In order to estimate the cosmological parameters using CMB information, you need to use MCMC  -> Very time-consuming "
   ]
  },
  {
   "cell_type": "markdown",
   "metadata": {
    "slideshow": {
     "slide_type": "slide"
    }
   },
   "source": [
    "### Estimating the cosmological parameters using Machine Learning.\n"
   ]
  },
  {
   "cell_type": "markdown",
   "metadata": {
    "slideshow": {
     "slide_type": "skip"
    }
   },
   "source": [
    "#### Solutions\n",
    "\n",
    "* The CMB information is distributed evenly along the sky (descounting the galactic foreground).\n",
    "* Once you have trained your machine learning algorithm, the estimation of the cosmological parameters is very fast."
   ]
  },
  {
   "cell_type": "markdown",
   "metadata": {
    "slideshow": {
     "slide_type": "subslide"
    }
   },
   "source": [
    "|||\n",
    "|:------|------:|\n",
    "|<img style=\"float: left;\" src='fig1_nueva.png' width=550>|<img style=\"float: right;\" src='fig2_nueva.png' width=550>|\n",
    "<tiny> *Simulated Power Specturm and Hubble diagrams that will be used as training and test samples.* </tiny>"
   ]
  },
  {
   "cell_type": "markdown",
   "metadata": {
    "slideshow": {
     "slide_type": "subslide"
    }
   },
   "source": [
    "<center>\n",
    "<img src='fig3.png' width=600>"
   ]
  },
  {
   "cell_type": "markdown",
   "metadata": {
    "slideshow": {
     "slide_type": "skip"
    }
   },
   "source": [
    "<center>\n",
    "<img src='fig4.png' width=600>"
   ]
  },
  {
   "cell_type": "markdown",
   "metadata": {
    "slideshow": {
     "slide_type": "skip"
    }
   },
   "source": [
    "<center>\n",
    "<img src='fig5.png' width=600>"
   ]
  },
  {
   "cell_type": "markdown",
   "metadata": {
    "slideshow": {
     "slide_type": "slide"
    }
   },
   "source": [
    "### Angular Distribution of the Cosmological Parameters.\n",
    "\n",
    "* Planck (*Rogers et al. 2016 (1601.01322)*)+ Sn tipo Ia (*Betoule et al. 2014 (1401.4064)*)\n",
    "* Support Vector Machine\n",
    "* [Healpix (Hierarchical Equal Area isoLatitude Pixelization)](http://healpix.jpl.nasa.gov/index.shtml)"
   ]
  },
  {
   "cell_type": "markdown",
   "metadata": {
    "slideshow": {
     "slide_type": "subslide"
    }
   },
   "source": [
    "|||\n",
    "|:------|------:|\n",
    "|<img style=\"float: left;\" src='map-om-192-pix.png' width=450>|<img style=\"float: right;\" src='map-omk-192-pix.png' width=450>|\n",
    "|<img style=\"float: left;\" src='map-omb-192-pix.png' width=450>|<img style=\"float: right;\" src='map-h-192-pix.png' width=450>|"
   ]
  },
  {
   "cell_type": "markdown",
   "metadata": {
    "slideshow": {
     "slide_type": "subslide"
    }
   },
   "source": [
    "<center>\n",
    "<img src='comparaciones.png' width=650>"
   ]
  },
  {
   "cell_type": "markdown",
   "metadata": {
    "slideshow": {
     "slide_type": "slide"
    }
   },
   "source": [
    "## Conclutions and Future Work."
   ]
  },
  {
   "cell_type": "markdown",
   "metadata": {
    "slideshow": {
     "slide_type": "subslide"
    }
   },
   "source": [
    "* We developed a machine learning technique that estimate the cosmological parameters in a more efficient way than the standar approuch and allow us to measure the angular distribution of this parameters.\n",
    "* This method can be easily extended to use more cosmological information (BAO, correlation function, SZ emission, etc.).\n",
    "* We do not found statistically significant departures from what is expected in an homogeneous and isotropic universe, with the possible exception of a bi-model $H_{0}$ distribution."
   ]
  },
  {
   "cell_type": "markdown",
   "metadata": {
    "slideshow": {
     "slide_type": "subslide"
    }
   },
   "source": [
    "* We will study the correlations between the local cosmological parameters and the large scale structure of the universe (Voids, Clusters, Filaments).\n",
    "* We will extend the parameters space and add polarization information in a forthcoming work."
   ]
  },
  {
   "cell_type": "markdown",
   "metadata": {
    "slideshow": {
     "slide_type": "slide"
    }
   },
   "source": [
    "<center>\n",
    "    <img src='thankyou.png' width=850>"
   ]
  }
 ],
 "metadata": {
  "celltoolbar": "Slideshow",
  "kernelspec": {
   "display_name": "R",
   "language": "R",
   "name": "ir"
  },
  "language_info": {
   "codemirror_mode": "r",
   "file_extension": ".r",
   "mimetype": "text/x-r-source",
   "name": "R",
   "pygments_lexer": "r",
   "version": "3.3.3"
  },
  "livereveal": {
   "theme": "solarized",
   "transition": "Convex"
  }
 },
 "nbformat": 4,
 "nbformat_minor": 1
}
